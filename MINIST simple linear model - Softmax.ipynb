{
 "cells": [
  {
   "cell_type": "markdown",
   "metadata": {},
   "source": [
    "## Simple Linear Model for Predicting MNIST data"
   ]
  },
  {
   "cell_type": "markdown",
   "metadata": {},
   "source": [
    "by Irwing Dsouza"
   ]
  },
  {
   "cell_type": "markdown",
   "metadata": {},
   "source": [
    "### Introduction\n",
    "\n",
    "We create a simple linear model using TensorFlow to predict handwritten digits in the MNIST data set"
   ]
  },
  {
   "cell_type": "code",
   "execution_count": 189,
   "metadata": {
    "collapsed": true
   },
   "outputs": [],
   "source": [
    "import tensorflow as tf\n",
    "import numpy as np\n",
    "import matplotlib.pyplot as plt\n",
    "import pandas as pd\n",
    "%matplotlib inline"
   ]
  },
  {
   "cell_type": "code",
   "execution_count": 190,
   "metadata": {},
   "outputs": [
    {
     "data": {
      "text/plain": [
       "'1.3.0'"
      ]
     },
     "execution_count": 190,
     "metadata": {},
     "output_type": "execute_result"
    }
   ],
   "source": [
    "tf.__version__"
   ]
  },
  {
   "cell_type": "markdown",
   "metadata": {},
   "source": [
    "## Load the Data"
   ]
  },
  {
   "cell_type": "code",
   "execution_count": 191,
   "metadata": {
    "collapsed": true
   },
   "outputs": [],
   "source": [
    "from tensorflow.examples.tutorials.mnist import input_data"
   ]
  },
  {
   "cell_type": "code",
   "execution_count": 192,
   "metadata": {},
   "outputs": [
    {
     "name": "stdout",
     "output_type": "stream",
     "text": [
      "Extracting ./MNIST_data/train-images-idx3-ubyte.gz\n",
      "Extracting ./MNIST_data/train-labels-idx1-ubyte.gz\n",
      "Extracting ./MNIST_data/t10k-images-idx3-ubyte.gz\n",
      "Extracting ./MNIST_data/t10k-labels-idx1-ubyte.gz\n"
     ]
    }
   ],
   "source": [
    "data=input_data.read_data_sets(\"./MNIST_data/\",one_hot=True)"
   ]
  },
  {
   "cell_type": "markdown",
   "metadata": {},
   "source": [
    "Check the Counts"
   ]
  },
  {
   "cell_type": "code",
   "execution_count": 193,
   "metadata": {},
   "outputs": [
    {
     "name": "stdout",
     "output_type": "stream",
     "text": [
      "Size of \n",
      "1. Training Set  :  55000\n",
      "2. Test Set      :  10000\n",
      "3. Validaton Set :  5000\n"
     ]
    }
   ],
   "source": [
    "print(\"Size of \")\n",
    "print(\"1. Training Set  : \",len(data.train.labels))\n",
    "print(\"2. Test Set      : \",len(data.test.labels))\n",
    "print(\"3. Validaton Set : \",len(data.validation.labels))"
   ]
  },
  {
   "cell_type": "markdown",
   "metadata": {},
   "source": [
    "The MNIST data set consists of 70,000 images split into the 3 parts as shown above"
   ]
  },
  {
   "cell_type": "markdown",
   "metadata": {},
   "source": [
    "One hot encoding has been done on the data, where the lable has been converted into a vector of 1s and 0s of length 10 \n",
    "where the presence of 1 in the ith place indicates the lable =i-1\n",
    "\n",
    "for eg:"
   ]
  },
  {
   "cell_type": "code",
   "execution_count": 194,
   "metadata": {},
   "outputs": [
    {
     "data": {
      "text/plain": [
       "array([ 0.,  0.,  0.,  1.,  0.,  0.,  0.,  0.,  0.,  0.])"
      ]
     },
     "execution_count": 194,
     "metadata": {},
     "output_type": "execute_result"
    }
   ],
   "source": [
    "data.train.labels[1,:]"
   ]
  },
  {
   "cell_type": "code",
   "execution_count": 195,
   "metadata": {
    "collapsed": true
   },
   "outputs": [],
   "source": [
    "#create a variable to hold the lables of the \"true values from the test dataset\n",
    "tru_val=np.array([label.argmax() for label in data.test.labels])"
   ]
  },
  {
   "cell_type": "code",
   "execution_count": 196,
   "metadata": {},
   "outputs": [
    {
     "data": {
      "text/plain": [
       "array([7, 2, 1, ..., 4, 5, 6])"
      ]
     },
     "execution_count": 196,
     "metadata": {},
     "output_type": "execute_result"
    }
   ],
   "source": [
    "tru_val"
   ]
  },
  {
   "cell_type": "code",
   "execution_count": 197,
   "metadata": {},
   "outputs": [
    {
     "data": {
      "text/plain": [
       "3"
      ]
     },
     "execution_count": 197,
     "metadata": {},
     "output_type": "execute_result"
    }
   ],
   "source": [
    "data.train.labels[1,:].argmax()"
   ]
  },
  {
   "cell_type": "markdown",
   "metadata": {},
   "source": [
    "Here a 1 in the 4th column indicates the number in the image is (4-1) = 3\n",
    "\n",
    "\n",
    "We prove this by viewing the image file"
   ]
  },
  {
   "cell_type": "code",
   "execution_count": 198,
   "metadata": {},
   "outputs": [
    {
     "data": {
      "text/plain": [
       "<matplotlib.image.AxesImage at 0x12399f048>"
      ]
     },
     "execution_count": 198,
     "metadata": {},
     "output_type": "execute_result"
    },
    {
     "data": {
      "image/png": "[encoded data removed]",
      "text/plain": [
       "<matplotlib.figure.Figure at 0x12355a6a0>"
      ]
     },
     "metadata": {},
     "output_type": "display_data"
    }
   ],
   "source": [
    "plt.imshow(data.train.images[1].reshape(28,28),cmap='binary')"
   ]
  },
  {
   "cell_type": "markdown",
   "metadata": {},
   "source": [
    "\n",
    "Create a function to print images"
   ]
  },
  {
   "cell_type": "code",
   "execution_count": 199,
   "metadata": {},
   "outputs": [],
   "source": [
    "def draw_imgs(imgs,predicted=None,tru_val=None):\n",
    "    fig, axes = plt.subplots(3, 3)\n",
    "    for i,ax in enumerate(axes.flat):\n",
    "        ax.imshow(imgs[i].reshape(28,28), cmap='binary')        \n",
    "        ax.set_xticks([])\n",
    "        ax.set_yticks([])\n",
    "        \n",
    "        if predicted is None:\n",
    "            xlabel = \"True Value: {0}\".format(tru_val[i])\n",
    "        else:\n",
    "            xlabel = \"True Value: {0}, \\n Predicted: {1}\".format(tru_val[i], predicted[i])\n",
    "        \n",
    "        ax.set_xlabel(xlabel)\n",
    "        plt.tight_layout()\n"
   ]
  },
  {
   "cell_type": "markdown",
   "metadata": {},
   "source": [
    "Lets check what the 1st 9 handwritten images in the test set are"
   ]
  },
  {
   "cell_type": "code",
   "execution_count": 200,
   "metadata": {},
   "outputs": [
    {
     "data": {
      "image/png": "[encoded data removed]",
      "text/plain": [
       "<matplotlib.figure.Figure at 0x12355a710>"
      ]
     },
     "metadata": {},
     "output_type": "display_data"
    }
   ],
   "source": [
    "draw_imgs(data.test.images[0:9],tru_val=tru_val)"
   ]
  },
  {
   "cell_type": "markdown",
   "metadata": {},
   "source": [
    "\n",
    "\n",
    "We now actually start using Tensorflow to do our predictions\n",
    "\n",
    "\n"
   ]
  },
  {
   "cell_type": "markdown",
   "metadata": {},
   "source": [
    "## Placeholders\n",
    "\n",
    "Placeholders are \"variables\" that serve as an input to the TensorFlow graph that changes as the graph is executed, this is known as \"feeding\" the graph. we first define the input images as placehoders."
   ]
  },
  {
   "cell_type": "code",
   "execution_count": 201,
   "metadata": {
    "collapsed": true
   },
   "outputs": [],
   "source": [
    "x=tf.placeholder(tf.float32,[None,784])"
   ]
  },
  {
   "cell_type": "markdown",
   "metadata": {},
   "source": [
    "Here the shape given for x is None x 784, this is because :\n",
    "\n",
    "None -> we are going to feed in the i/p in batches\n",
    "\n",
    "784 -> images are of size 28x28 =784 which has been flattened"
   ]
  },
  {
   "cell_type": "code",
   "execution_count": 202,
   "metadata": {
    "collapsed": true
   },
   "outputs": [],
   "source": [
    "y_true=tf.placeholder(tf.float32,[None,10])"
   ]
  },
  {
   "cell_type": "markdown",
   "metadata": {},
   "source": [
    "Here we have diemnsions of None x 10 because\n",
    "\n",
    "None -> we have batches\n",
    "\n",
    "10 -> we have 10 classes"
   ]
  },
  {
   "cell_type": "markdown",
   "metadata": {},
   "source": [
    "## Variables\n",
    "\n",
    "Variables are what tensorflow tweaks to optimise the model , in this case since we are doing a simple linear fit, we only have 2 variables the weight and the bias"
   ]
  },
  {
   "cell_type": "code",
   "execution_count": 203,
   "metadata": {
    "collapsed": true
   },
   "outputs": [],
   "source": [
    "weights=tf.Variable(tf.zeros([784,10]))"
   ]
  },
  {
   "cell_type": "markdown",
   "metadata": {},
   "source": [
    "We initialised the weight to 784 (for the same reason as earlier) by 10 for the 10 classes"
   ]
  },
  {
   "cell_type": "code",
   "execution_count": 204,
   "metadata": {
    "collapsed": true
   },
   "outputs": [],
   "source": [
    "biases=tf.Variable(tf.zeros([10]))"
   ]
  },
  {
   "cell_type": "markdown",
   "metadata": {},
   "source": [
    "we need one bias term for each class"
   ]
  },
  {
   "cell_type": "markdown",
   "metadata": {},
   "source": [
    "## Model"
   ]
  },
  {
   "cell_type": "code",
   "execution_count": 205,
   "metadata": {
    "collapsed": true
   },
   "outputs": [],
   "source": [
    "Y=tf.matmul(x,weights)+biases"
   ]
  },
  {
   "cell_type": "markdown",
   "metadata": {},
   "source": [
    "Once the above model is evalutaed it will return a 10 column matrix with one row for each class, where each column is an estimate of how likely that Y is to belong to that class. Since this o/p is a little difficult to interpret we use the softmax function , a commonly used function in multi variate classification to normalise it "
   ]
  },
  {
   "cell_type": "code",
   "execution_count": 206,
   "metadata": {
    "collapsed": true
   },
   "outputs": [],
   "source": [
    "y_pred = tf.nn.softmax(Y)"
   ]
  },
  {
   "cell_type": "markdown",
   "metadata": {},
   "source": [
    "The predicted class can be calculated from the y_pred matrix by taking the index of the largest element in each row."
   ]
  },
  {
   "cell_type": "code",
   "execution_count": 207,
   "metadata": {
    "collapsed": true
   },
   "outputs": [],
   "source": [
    "y_pred_class=tf.argmax(y_pred,1)"
   ]
  },
  {
   "cell_type": "markdown",
   "metadata": {
    "collapsed": true
   },
   "source": [
    "## Cost function and its optimisation\n",
    "\n",
    "During the early phase of training out network won't really be able to give the \"correct\" answer hence the need for training.During training we provide it both the features as well as the classes/lables/\"correct answers\" As it trains it (hopefully!) gets better at predicting and the answers come closer and closer to the actual \"correct\" value.\n",
    "\n",
    "How we measure how close it is to the \"correct\" value is given by a cost function. Ultimately we want the network to give as correct answers as possible, i.e. the cost has to be as close to zero as possible.\n",
    "\n",
    "Cross entropy is a performance measure used in classification problems, for a perfect prediction i.e.\n",
    "\n",
    "predicted value = actual value\n",
    "\n",
    "the cross entropy is zero.\n",
    "\n",
    "Our aim during optimisation is thus to reduce cross entropy to a value as close to zero as possible. For this we use a built in TF algorithm to calculate cross entropy which also internally calculates softmax"
   ]
  },
  {
   "cell_type": "code",
   "execution_count": 208,
   "metadata": {
    "collapsed": true
   },
   "outputs": [],
   "source": [
    "cross_entropy=tf.nn.softmax_cross_entropy_with_logits(logits=Y,labels=y_true)"
   ]
  },
  {
   "cell_type": "markdown",
   "metadata": {},
   "source": [
    "We have the cross entropy now ,but we need it reduced to a single scalar to use it in any meaningful way and so we just take the average or mean cross entropy across all image classifications"
   ]
  },
  {
   "cell_type": "code",
   "execution_count": 209,
   "metadata": {
    "collapsed": true
   },
   "outputs": [],
   "source": [
    "cost=tf.reduce_mean(cross_entropy)"
   ]
  },
  {
   "cell_type": "markdown",
   "metadata": {},
   "source": [
    "## Optimisation method\n",
    "\n",
    "To optimise the cost function as described earlier we use the Gradient Descent algorithm. In overly simplified terms the way this works is by taking small steps (called the learning rate) to to gradually \"descend\" to the minimum cost"
   ]
  },
  {
   "cell_type": "code",
   "execution_count": 210,
   "metadata": {
    "collapsed": true
   },
   "outputs": [],
   "source": [
    "optimiser=tf.train.GradientDescentOptimizer(learning_rate=0.5,).minimize(cost)"
   ]
  },
  {
   "cell_type": "markdown",
   "metadata": {},
   "source": [
    "## Create a Tensor Flow Session"
   ]
  },
  {
   "cell_type": "code",
   "execution_count": 211,
   "metadata": {
    "collapsed": true
   },
   "outputs": [],
   "source": [
    "init=tf.global_variables_initializer()\n",
    "tf_batch_size=100"
   ]
  },
  {
   "cell_type": "code",
   "execution_count": 212,
   "metadata": {},
   "outputs": [
    {
     "name": "stdout",
     "output_type": "stream",
     "text": [
      "Accuracy is:\n",
      "0.919\n",
      "\n",
      "1st nine predicted values are\n"
     ]
    },
    {
     "data": {
      "image/png": "[encoded data removed]",
      "text/plain": [
       "<matplotlib.figure.Figure at 0x122f25080>"
      ]
     },
     "metadata": {},
     "output_type": "display_data"
    }
   ],
   "source": [
    "with tf.Session() as sess:\n",
    "    sess.run(init)\n",
    "    \n",
    "    for step in range(1000):\n",
    "        batch_x,batch_y=data.train.next_batch(tf_batch_size)\n",
    "        \n",
    "        sess.run(optimiser,feed_dict={x:batch_x,y_true:batch_y})\n",
    "        \n",
    "    # Run the model against the test data check how accurate it is\n",
    "    matches = tf.equal(y_pred_class,tf.argmax(y_true,1))\n",
    "            \n",
    "    acc=tf.reduce_mean(tf.cast(matches,tf.float32))\n",
    "    \n",
    "    print(\"Accuracy is:\")\n",
    "    print(sess.run(acc,feed_dict={x:data.test.images,y_true:data.test.labels}))\n",
    "    prediction=sess.run(y_pred_class,feed_dict={x:data.test.images})\n",
    "    print()\n",
    "    print(\"1st nine predicted values are\")\n",
    "    draw_imgs(data.test.images[0:9],predicted=prediction[0:9],tru_val=tru_val)"
   ]
  },
  {
   "cell_type": "markdown",
   "metadata": {},
   "source": [
    "## Sample wrong predictions\n",
    "\n",
    "It would be interesting to see some incorrect predictions, which is what we do next"
   ]
  },
  {
   "cell_type": "code",
   "execution_count": 213,
   "metadata": {},
   "outputs": [
    {
     "data": {
      "image/png": "[encoded data removed]",
      "text/plain": [
       "<matplotlib.figure.Figure at 0x11d335f28>"
      ]
     },
     "metadata": {},
     "output_type": "display_data"
    }
   ],
   "source": [
    "correct_predictions=(prediction==tru_val)\n",
    "incorrect_predictions = (correct_predictions == False)\n",
    " \n",
    "#Get the images that have been incorrectly predicted\n",
    "incorrect_pred_images = data.test.images[incorrect_predictions]\n",
    "    \n",
    "#Get the incorrectly predicted classes\n",
    "incorrect_classes=prediction[incorrect_predictions]\n",
    "    \n",
    "#Get the right classes for the incorrect predictions\n",
    "right_cls_incorr=tru_val[incorrect_predictions]\n",
    "  \n",
    "draw_imgs(incorrect_pred_images,predicted=incorrect_classes,tru_val=right_cls_incorr)"
   ]
  },
  {
   "cell_type": "code",
   "execution_count": null,
   "metadata": {
    "collapsed": true
   },
   "outputs": [],
   "source": []
  }
 ],
 "metadata": {
  "kernelspec": {
   "display_name": "Python 3",
   "language": "python",
   "name": "python3"
  },
  "language_info": {
   "codemirror_mode": {
    "name": "ipython",
    "version": 3
   },
   "file_extension": ".py",
   "mimetype": "text/x-python",
   "name": "python",
   "nbconvert_exporter": "python",
   "pygments_lexer": "ipython3",
   "version": "3.5.4"
  }
 },
 "nbformat": 4,
 "nbformat_minor": 2
}
